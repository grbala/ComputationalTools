{
 "cells": [
  {
   "cell_type": "code",
   "execution_count": 1,
   "metadata": {
    "collapsed": false
   },
   "outputs": [
    {
     "name": "stderr",
     "output_type": "stream",
     "text": [
      "/Users/bgadagun/repos/pymatgen/pymatgen/__init__.py:34: UserWarning: With effect from pmg 5.0, all pymatgen settings are prefixed with a \"PMG_\". E.g., \"PMG_VASP_PSP_DIR\" instead of \"VASP_PSP_DIR\".\n",
      "  warnings.warn('With effect from pmg 5.0, all pymatgen settings are'\n"
     ]
    }
   ],
   "source": [
    "from pymatgen.core import Structure"
   ]
  },
  {
   "cell_type": "markdown",
   "metadata": {},
   "source": [
    "# Read Structure from a cif file"
   ]
  },
  {
   "cell_type": "code",
   "execution_count": 2,
   "metadata": {
    "collapsed": false
   },
   "outputs": [
    {
     "name": "stdout",
     "output_type": "stream",
     "text": [
      "Full Formula (Li4 O4)\n",
      "Reduced Formula: Li2O2\n",
      "abc   :   3.180362   3.180362   7.703522\n",
      "angles:  90.000000  90.000000 120.000000\n",
      "Sites (8)\n",
      "  #  SP           a         b        c\n",
      "---  ----  --------  --------  -------\n",
      "  0  Li    0         0         0\n",
      "  1  Li    0         0         0.5\n",
      "  2  Li    0.333333  0.666667  0.25\n",
      "  3  Li    0.666667  0.333333  0.75\n",
      "  4  O     0.333333  0.666667  0.64931\n",
      "  5  O     0.666667  0.333333  0.14931\n",
      "  6  O     0.666667  0.333333  0.35069\n",
      "  7  O     0.333333  0.666667  0.85069\n"
     ]
    }
   ],
   "source": [
    "Li2O2 = Structure.from_file(\"Li2O2_mp-841_conventional_standard.cif\")\n",
    "print(Li2O2)"
   ]
  },
  {
   "cell_type": "markdown",
   "metadata": {},
   "source": [
    "# Use slab generating algorithm in pymatgen"
   ]
  },
  {
   "cell_type": "code",
   "execution_count": 3,
   "metadata": {
    "collapsed": true
   },
   "outputs": [],
   "source": [
    "from pymatgen.core.surface import generate_all_slabs, SlabGenerator\n",
    "# Add oxidation states to each element in the chemistry\n",
    "Li2O2.add_oxidation_state_by_element({\"Li\": 1, \"O\": -2})"
   ]
  },
  {
   "cell_type": "code",
   "execution_count": 4,
   "metadata": {
    "collapsed": false
   },
   "outputs": [
    {
     "name": "stderr",
     "output_type": "stream",
     "text": [
      "/Users/bgadagun/anaconda3/lib/python3.6/site-packages/numpy/linalg/linalg.py:1776: RuntimeWarning: invalid value encountered in det\n",
      "  r = _umath_linalg.det(a, signature=signature)\n"
     ]
    }
   ],
   "source": [
    "# Use slab generator to automatically generate slabs of unique miller indices\n",
    "# Here, we search for all unique planes with indices up to 2\n",
    "# Slab size is set to a min of 15 A to avoid periodic effects\n",
    "# Vacuum size is set to 10 A\n",
    "gen = generate_all_slabs(structure=Li2O2,\n",
    "                         max_index= 2,\n",
    "                         min_slab_size=15,min_vacuum_size=10,\n",
    "                         max_normal_search=1)"
   ]
  },
  {
   "cell_type": "code",
   "execution_count": 5,
   "metadata": {
    "collapsed": false
   },
   "outputs": [
    {
     "name": "stdout",
     "output_type": "stream",
     "text": [
      "Total number of slabs generated:  33\n"
     ]
    }
   ],
   "source": [
    "print (\"Total number of slabs generated: \", len(gen))"
   ]
  },
  {
   "cell_type": "code",
   "execution_count": 6,
   "metadata": {
    "collapsed": false
   },
   "outputs": [
    {
     "name": "stdout",
     "output_type": "stream",
     "text": [
      "Number of non-polar slabs generated:  7\n"
     ]
    }
   ],
   "source": [
    "# Non-polar slabs usually have the lowest energy of all non-reconstructed surfaces\n",
    "non_polar_list = [s for s in gen if s.is_polar() != True]\n",
    "# Checking if any of the slabs generated are non-polar\n",
    "print (\"Number of non-polar slabs generated: \", len(non_polar_list))"
   ]
  },
  {
   "cell_type": "code",
   "execution_count": 7,
   "metadata": {
    "collapsed": false
   },
   "outputs": [
    {
     "name": "stdout",
     "output_type": "stream",
     "text": [
      "(1, 1, 0)\n",
      "(2, 1, 2)\n",
      "(2, 1, 2)\n",
      "(2, 1, 0)\n",
      "(1, 0, 0)\n",
      "(1, 0, 2)\n",
      "(1, 0, 2)\n"
     ]
    }
   ],
   "source": [
    "# Indices of nn-polar surface slabs\n",
    "for s in non_polar_list:\n",
    "    print (s.miller_index)"
   ]
  },
  {
   "cell_type": "code",
   "execution_count": 8,
   "metadata": {
    "collapsed": false
   },
   "outputs": [
    {
     "name": "stdout",
     "output_type": "stream",
     "text": [
      "Slab Summary (Li40 O40)\n",
      "Reduced Formula: Li2O2\n",
      "Miller index: (1, 1, 0)\n",
      "Shift: 0.2500, Scale Factor: [[ 0  0 -1]\n",
      " [ 1 -1  0]\n",
      " [-1 -1  0]]\n",
      "abc   :   7.703522   5.508549  28.623258\n",
      "angles:  90.000000  90.000000  90.000000\n",
      "Sites (80)\n",
      "1 Li+     0.000000     0.500000     0.027778\n",
      "2 Li+     0.000000     0.000000     0.083333\n",
      "3 Li+     0.500000     0.500000     0.027778\n",
      "4 Li+     0.500000     0.000000     0.083333\n",
      "5 Li+     0.750000     0.333333     0.083333\n",
      "6 Li+     0.750000     0.833333     0.027778\n",
      "7 Li+     0.250000     0.666667     0.083333\n",
      "8 Li+     0.250000     0.166667     0.027778\n",
      "9 O2-     0.350690     0.333333     0.083333\n",
      "10 O2-     0.350690     0.833333     0.027778\n",
      "11 O2-     0.850690     0.666667     0.083333\n",
      "12 O2-     0.850690     0.166667     0.027778\n",
      "13 O2-     0.649310     0.666667     0.083333\n",
      "14 O2-     0.649310     0.166667     0.027778\n",
      "15 O2-     0.149310     0.333333     0.083333\n",
      "16 O2-     0.149310     0.833333     0.027778\n",
      "17 Li+     0.000000     0.500000     0.138889\n",
      "18 Li+     0.000000     0.000000     0.194444\n",
      "19 Li+     0.500000     0.500000     0.138889\n",
      "20 Li+     0.500000     0.000000     0.194444\n",
      "21 Li+     0.750000     0.333333     0.194444\n",
      "22 Li+     0.750000     0.833333     0.138889\n",
      "23 Li+     0.250000     0.666667     0.194444\n",
      "24 Li+     0.250000     0.166667     0.138889\n",
      "25 O2-     0.350690     0.333333     0.194444\n",
      "26 O2-     0.350690     0.833333     0.138889\n",
      "27 O2-     0.850690     0.666667     0.194444\n",
      "28 O2-     0.850690     0.166667     0.138889\n",
      "29 O2-     0.649310     0.666667     0.194444\n",
      "30 O2-     0.649310     0.166667     0.138889\n",
      "31 O2-     0.149310     0.333333     0.194444\n",
      "32 O2-     0.149310     0.833333     0.138889\n",
      "33 Li+     0.000000     0.500000     0.250000\n",
      "34 Li+     0.000000     0.000000     0.305556\n",
      "35 Li+     0.500000     0.500000     0.250000\n",
      "36 Li+     0.500000     0.000000     0.305556\n",
      "37 Li+     0.750000     0.333333     0.305556\n",
      "38 Li+     0.750000     0.833333     0.250000\n",
      "39 Li+     0.250000     0.666667     0.305556\n",
      "40 Li+     0.250000     0.166667     0.250000\n",
      "41 O2-     0.350690     0.333333     0.305556\n",
      "42 O2-     0.350690     0.833333     0.250000\n",
      "43 O2-     0.850690     0.666667     0.305556\n",
      "44 O2-     0.850690     0.166667     0.250000\n",
      "45 O2-     0.649310     0.666667     0.305556\n",
      "46 O2-     0.649310     0.166667     0.250000\n",
      "47 O2-     0.149310     0.333333     0.305556\n",
      "48 O2-     0.149310     0.833333     0.250000\n",
      "49 Li+     0.000000     0.500000     0.361111\n",
      "50 Li+     0.000000     0.000000     0.416667\n",
      "51 Li+     0.500000     0.500000     0.361111\n",
      "52 Li+     0.500000     0.000000     0.416667\n",
      "53 Li+     0.750000     0.333333     0.416667\n",
      "54 Li+     0.750000     0.833333     0.361111\n",
      "55 Li+     0.250000     0.666667     0.416667\n",
      "56 Li+     0.250000     0.166667     0.361111\n",
      "57 O2-     0.350690     0.333333     0.416667\n",
      "58 O2-     0.350690     0.833333     0.361111\n",
      "59 O2-     0.850690     0.666667     0.416667\n",
      "60 O2-     0.850690     0.166667     0.361111\n",
      "61 O2-     0.649310     0.666667     0.416667\n",
      "62 O2-     0.649310     0.166667     0.361111\n",
      "63 O2-     0.149310     0.333333     0.416667\n",
      "64 O2-     0.149310     0.833333     0.361111\n",
      "65 Li+     0.000000     0.500000     0.472222\n",
      "66 Li+     0.000000     0.000000     0.527778\n",
      "67 Li+     0.500000     0.500000     0.472222\n",
      "68 Li+     0.500000     0.000000     0.527778\n",
      "69 Li+     0.750000     0.333333     0.527778\n",
      "70 Li+     0.750000     0.833333     0.472222\n",
      "71 Li+     0.250000     0.666667     0.527778\n",
      "72 Li+     0.250000     0.166667     0.472222\n",
      "73 O2-     0.350690     0.333333     0.527778\n",
      "74 O2-     0.350690     0.833333     0.472222\n",
      "75 O2-     0.850690     0.666667     0.527778\n",
      "76 O2-     0.850690     0.166667     0.472222\n",
      "77 O2-     0.649310     0.666667     0.527778\n",
      "78 O2-     0.649310     0.166667     0.472222\n",
      "79 O2-     0.149310     0.333333     0.527778\n",
      "80 O2-     0.149310     0.833333     0.472222\n"
     ]
    }
   ],
   "source": [
    "# Example slab of a non-polar slab.\n",
    "# The generated slab can be written into cif file or used to generated VASP or other input files\n",
    "print(non_polar_list[0])"
   ]
  }
 ],
 "metadata": {
  "kernelspec": {
   "display_name": "Python 3",
   "language": "python",
   "name": "python3"
  },
  "language_info": {
   "codemirror_mode": {
    "name": "ipython",
    "version": 3
   },
   "file_extension": ".py",
   "mimetype": "text/x-python",
   "name": "python",
   "nbconvert_exporter": "python",
   "pygments_lexer": "ipython3",
   "version": "3.6.0"
  }
 },
 "nbformat": 4,
 "nbformat_minor": 2
}
